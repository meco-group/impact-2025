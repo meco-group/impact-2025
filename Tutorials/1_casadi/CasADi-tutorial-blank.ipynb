{
 "cells": [
  {
   "cell_type": "markdown",
   "id": "b2302af4-1c93-4231-ba1a-1059e01c440b",
   "metadata": {},
   "source": [
    "# Tutorial on CasADi and Opti\n",
    "For more information on CasADi, check out https://web.casadi.org/docs/\n",
    "\n",
    "For IPOPT options, check out https://coin-or.github.io/Ipopt/OPTIONS.html"
   ]
  },
  {
   "cell_type": "code",
   "execution_count": null,
   "id": "ce96ca05-91ab-4d4c-9fb5-f9ffe05c582b",
   "metadata": {},
   "outputs": [],
   "source": [
    "from casadi import *\n",
    "import matplotlib.pyplot as plt\n",
    "from matplotlib.animation import *\n",
    "from matplotlib.patches import Circle\n",
    "from IPython.display import HTML"
   ]
  },
  {
   "cell_type": "code",
   "execution_count": null,
   "id": "61c9c5af-1d52-4a77-a8d1-d54e527bc7b9",
   "metadata": {},
   "outputs": [],
   "source": [
    "def plotObjective():\n",
    "    plt.figure()\n",
    "\n",
    "    delta = 0.025\n",
    "    xx = np.arange(-1.7, 1.7, delta)\n",
    "    yy = np.arange(-1.6, 1.6, delta)\n",
    "    X, Y = np.meshgrid(xx, yy)\n",
    "    Z = (1-X)**2 + (Y-X**2)**2\n",
    "    plt.contour(X, Y, Z, levels=100)\n",
    "\n",
    "    plt.gca().set_xlim([-1.7, 1.7])\n",
    "    plt.gca().set_ylim([-1.5, 1.5])\n",
    "    plt.gca().set_aspect('equal')\n",
    "\n",
    "def createAnimation(opti_f):\n",
    "    xx_sol = []\n",
    "    yy_sol = []\n",
    "    slopes = np.linspace(-2.0, 2.0, 30)\n",
    "    for slope in slopes:\n",
    "        x, y = opti_f(slope)\n",
    "        xx_sol.append(x)\n",
    "        yy_sol.append(y)\n",
    "    \n",
    "    plotObjective()\n",
    "    plt.plot(np.cos(np.linspace(0, 2*np.pi, 100)), \n",
    "             np.sin(np.linspace(0, 2*np.pi, 100)), 'r', linewidth=4)\n",
    "    constraint, = plt.plot(np.linspace(-2.0, 2.0, 2), slopes[0]*np.linspace(-2.0, 2.0, 2), \"r\", linewidth=4)\n",
    "    solution, = plt.plot(xx_sol[0], yy_sol[0], marker='o', color='k', markersize=10)\n",
    "    \n",
    "    def update_frame(i):\n",
    "        constraint.set_data(np.linspace(-2.0, 2.0, 2), slopes[i]*np.linspace(-2.0, 2.0, 2))\n",
    "        solution.set_data([float(xx_sol[i])], [float(yy_sol[i])])\n",
    "        return constraint, solution,\n",
    "    \n",
    "    animation1 = FuncAnimation(plt.gcf(), update_frame, frames=range(len(slopes)))\n",
    "    \n",
    "    HTML(animation1.to_jshtml())\n",
    "    return animation1"
   ]
  },
  {
   "cell_type": "markdown",
   "id": "ea7bce29-573f-4831-a620-81323a41537f",
   "metadata": {},
   "source": [
    "## Basic CasADi introduction: variables and functions\n",
    "\n",
    "Lets define our first CasADi function:\n",
    "\n",
    "$f\\left( \\begin{bmatrix} x_1 & x_2 & x_3 & x_4 & x_5 \\end{bmatrix}^\\top \\right) = \\begin{bmatrix} x_1 + x_2 + x_3\\\\ x_3^2 + x_4^2 + x_5^2\\end{bmatrix}$"
   ]
  },
  {
   "cell_type": "code",
   "execution_count": null,
   "id": "7f40a686-4961-4b18-8709-bdf1da74887f",
   "metadata": {},
   "outputs": [],
   "source": [
    "# Define x and y\n",
    "\n",
    "\n",
    "# Assign the values\n",
    "\n",
    "\n",
    "# Define a function and evaluate it\n",
    "\n"
   ]
  },
  {
   "cell_type": "markdown",
   "id": "f4a0c2d8-4267-4552-8707-45376ff25e07",
   "metadata": {},
   "source": [
    "Lets introduce a paremeter in our CasADi function:\n",
    "\n",
    "$f\\left( \\begin{bmatrix} x_1 & x_2 & x_3 & x_4 & x_5 \\end{bmatrix}^\\top, \\textcolor{blue}{p} \\right) = \\begin{bmatrix} x_1 + x_2 + x_3\\\\ x_3^2 + x_4^2 + x_5^2 + \\textcolor{blue}{p}\\end{bmatrix}$"
   ]
  },
  {
   "cell_type": "code",
   "execution_count": null,
   "id": "0f7c9dd1-3c59-487d-9a8a-46fbf05005aa",
   "metadata": {},
   "outputs": [],
   "source": [
    "# Define x and y\n",
    "\n",
    "\n",
    "# Define p\n",
    "\n",
    "\n",
    "# Assign values\n",
    "\n",
    "\n",
    "# Define the function and print it\n",
    "f = Function(\"f\", [x], [y])\n",
    "print(f([1, 2, 3, 4, 5]))\n",
    "\n",
    "# What happens if y is changed?\n",
    "\n",
    "f = Function(\"f\", [x], [y])\n",
    "print(f([1, 2, 3, 4, 5]))"
   ]
  },
  {
   "cell_type": "markdown",
   "id": "b71b713d-8fd8-44a7-97ab-fbf5de22a014",
   "metadata": {},
   "source": [
    "## Using CasADi's Algorithmic differentation\n",
    "\n",
    "Computing a derivative using jacobian:"
   ]
  },
  {
   "cell_type": "code",
   "execution_count": null,
   "id": "be45d58b-513f-452f-887d-c6db3a0ec53f",
   "metadata": {},
   "outputs": [],
   "source": [
    "\n",
    "\n",
    "print(J)\n",
    "print(J([1,2,3,4,5]))"
   ]
  },
  {
   "cell_type": "markdown",
   "id": "358a8f9f-0272-4866-a183-b09655e50082",
   "metadata": {},
   "source": [
    "Computing a second order derivative using hessian:"
   ]
  },
  {
   "cell_type": "code",
   "execution_count": null,
   "id": "edb79c08-2260-429e-9092-516b64425faf",
   "metadata": {},
   "outputs": [],
   "source": [
    "\n",
    "\n",
    "print(H)\n",
    "print(H([1,2,3,4,5]))"
   ]
  },
  {
   "cell_type": "markdown",
   "id": "d067cb31-9561-471f-9d83-b525aafa337d",
   "metadata": {},
   "source": [
    "## Storing, loading and code generating casadi functions"
   ]
  },
  {
   "cell_type": "code",
   "execution_count": null,
   "id": "a9dd4a24-4f0d-4452-9307-f83174b9b429",
   "metadata": {},
   "outputs": [],
   "source": [
    "# loading a casadi function\n",
    "# TODO\n",
    "\n",
    "# saving a casadi function\n",
    "# TODO\n",
    "\n",
    "# code generation\n",
    "# TODO\n",
    "\n",
    "# compiling code-generated casadi functions\n",
    "# gcc -fPIC -shared myFunction.c -o myFunction.so"
   ]
  },
  {
   "cell_type": "markdown",
   "id": "ae41b1fd-010b-41c3-a2a0-fc24d31bc715",
   "metadata": {},
   "source": [
    "## Opti example\n",
    "(see https://web.casadi.org/blog/opti/)\n",
    "Let's now define an optimization problem and solve it using CasADi Opti.\n",
    "\n",
    "### Basic Rosenbrock example\n",
    "\\begin{align}\n",
    "\\min_{x,u} \\quad (1-x)^2 + (y-x^2)^2\n",
    "\\end{align}"
   ]
  },
  {
   "cell_type": "code",
   "execution_count": null,
   "id": "783988b0-4ed7-4ee9-8d9a-15893763cb97",
   "metadata": {},
   "outputs": [],
   "source": [
    "# create an opti instance\n",
    "# TODO\n",
    "\n",
    "# define optimization variables\n",
    "# TODO\n",
    "\n",
    "# define the objective function\n",
    "# TODO\n",
    "\n",
    "# set the solver\n",
    "# TODO\n",
    "\n",
    "# show the output\n",
    "print(f\"Optimal solution: ({}, {})\")\n",
    "\n",
    "plotObjective()\n",
    "plt.plot(sol.value(x), sol.value(y), 'k', marker='o', markersize=10)"
   ]
  },
  {
   "cell_type": "markdown",
   "id": "e3cdc453-2819-4f09-89b3-c40e81856a7b",
   "metadata": {},
   "source": [
    "### Let's add a simple constraint\n",
    "\\begin{align}\n",
    "\\min_{x,u} (1-x)^2 + (y-x^2)^2\\\\\n",
    "\\text{s.t.} \\quad x^2 + y^2 = 1\\quad \n",
    "\\end{align}"
   ]
  },
  {
   "cell_type": "code",
   "execution_count": null,
   "id": "7a1a622e-a82d-41c5-a1b9-9ba11248d116",
   "metadata": {},
   "outputs": [],
   "source": [
    "# define the constraint\n",
    "# TODO\n",
    "\n",
    "# set the solver\n",
    "opti.solver(\"ipopt\", {}, {})\n",
    "sol = opti.solve()\n",
    "\n",
    "# show the solution\n",
    "print(f\"Optimal solution: ({sol.value(x)}, {sol.value(y)})\")\n",
    "print(f\"Lagrange multiplier value: {sol.value(opti.debug.lam_g)}\")\n",
    "\n",
    "plotObjective()\n",
    "plt.plot(np.cos(np.linspace(0, 2*np.pi, 100)), \n",
    "         np.sin(np.linspace(0, 2*np.pi, 100)), 'r', linewidth=4.0)\n",
    "plt.plot(sol.value(x), sol.value(y), 'k', marker='o', markersize=10)"
   ]
  },
  {
   "cell_type": "markdown",
   "id": "6d47109a-1170-4e70-97b3-5baae2a008d2",
   "metadata": {},
   "source": [
    "### Let's add an inequality constraint also\n",
    "\\begin{align}\n",
    "\\min_{x,u} (1-x)^2 + (y-x^2)^2\\\\\n",
    "\\text{s.t.} \\quad x^2 + y^2 = 1\\\\\n",
    "y >= px\n",
    "\\end{align}"
   ]
  },
  {
   "cell_type": "code",
   "execution_count": null,
   "id": "93d32bb8-1d1d-4569-8abc-7c400db2e0a4",
   "metadata": {},
   "outputs": [],
   "source": [
    "# define a parameter\n",
    "# TODO\n",
    "\n",
    "# define the constraints\n",
    "# TODO\n",
    "\n",
    "# set the parameter value\n",
    "# TODO\n",
    "\n",
    "# solve the problem\n",
    "sol = opti.solve()\n",
    "\n",
    "# show the solution\n",
    "print(f\"Optimal solution: ({sol.value(x)}, {sol.value(y)})\")\n",
    "\n",
    "plotObjective()\n",
    "plt.plot(np.cos(np.linspace(0, 2*np.pi, 100)), \n",
    "         np.sin(np.linspace(0, 2*np.pi, 100)), 'r', linewidth=4.0)\n",
    "plt.plot(np.linspace(-2.0, 2.0, 2), 2.0*np.linspace(-2.0, 2.0, 2), \"r\", linewidth=4)\n",
    "plt.plot(sol.value(x), sol.value(y), 'k', marker='o', markersize=10)"
   ]
  },
  {
   "cell_type": "markdown",
   "id": "eaba4e8f-0828-43b7-80c0-667a85ea7ca5",
   "metadata": {},
   "source": [
    "## More advanced options in Opti\n",
    "#### Callbacks"
   ]
  },
  {
   "cell_type": "code",
   "execution_count": null,
   "id": "2f8eacce-4d6a-4001-856e-cf59caf7a70e",
   "metadata": {},
   "outputs": [],
   "source": [
    "# set the solver\n",
    "opti.solver(\"ipopt\", {\"print_time\":False}, {\"print_level\":0, \"max_iter\":3000})\n",
    "\n",
    "# define a callback\n",
    "def plotAll():\n",
    "    plotObjective()\n",
    "    plt.plot(np.cos(np.linspace(0, 2*np.pi, 100)), np.sin(np.linspace(0, 2*np.pi, 100)), 'r', linewidth=4.0)\n",
    "    plt.plot(np.linspace(-2.0, 2.0, 2), 2.0*np.linspace(-2.0, 2.0, 2), \"r\", linewidth=4)\n",
    "    plt.plot(opti.debug.value(x), opti.debug.value(y), 'k', marker='o', markersize=10)\n",
    "\n",
    "opti.callback(lambda i : print(opti.debug.value(x), opti.debug.value(y)))\n",
    "# opti.callback(lambda i : plotAll())\n",
    "\n",
    "# solve the problem\n",
    "opti.solve()"
   ]
  },
  {
   "cell_type": "markdown",
   "id": "52ea4bd7-c153-4ebd-bc89-44c50f7e1ea7",
   "metadata": {},
   "source": [
    "#### opti.to_function"
   ]
  },
  {
   "cell_type": "code",
   "execution_count": null,
   "id": "db55883b-de2b-47c3-b9ea-9e3b127b24f5",
   "metadata": {},
   "outputs": [],
   "source": [
    "# create function object\n",
    "# TODO\n",
    "\n",
    "# solve the problem\n",
    "# TODO\n",
    "\n",
    "# show the solution\n",
    "print(f\"Optimal solution: ({sol_x}, {sol_y})\")\n",
    "\n",
    "plotObjective()\n",
    "plt.plot(np.cos(np.linspace(0, 2*np.pi, 100)), \n",
    "         np.sin(np.linspace(0, 2*np.pi, 100)), 'r', linewidth=4.0)\n",
    "plt.plot(np.linspace(-2.0, 2.0, 2), 2.0*np.linspace(-2.0, 2.0, 2), \"r\", linewidth=4)\n",
    "plt.plot(sol_x, sol_y, 'k', marker='o', markersize=10)"
   ]
  },
  {
   "cell_type": "code",
   "execution_count": null,
   "id": "9e8714f4-9b1a-45b2-bea9-154f0065684c",
   "metadata": {},
   "outputs": [],
   "source": [
    "animation1 = createAnimation(opti_f)\n",
    "HTML(animation1.to_jshtml())"
   ]
  },
  {
   "cell_type": "markdown",
   "id": "231e46a7-34d6-4d6d-9651-6097f66ce6b1",
   "metadata": {},
   "source": [
    "### initial guesses"
   ]
  },
  {
   "cell_type": "code",
   "execution_count": null,
   "id": "51cd66ec-2750-4815-8945-e1da313b75f5",
   "metadata": {},
   "outputs": [],
   "source": [
    "# set an initial guess ((x,y) = (0.5, 2.0))\n",
    "# TODO\n",
    "\n",
    "# create function object\n",
    "opti_f = opti.to_function(\"opti_f\", [p], [x, y])\n",
    "\n",
    "animation2 = createAnimation(opti_f)\n",
    "HTML(animation2.to_jshtml())"
   ]
  },
  {
   "cell_type": "markdown",
   "id": "f0628796-7810-4439-a053-37023da9ca3d",
   "metadata": {},
   "source": [
    "# Example problem: hanging chain\n",
    "\n",
    "Now, lets consider a more elaborate example optimization problem. We want to find the shape of a chain, fixed on both ends. This can be achieved by representing the chain by masses attached to each other with simple springs. Every mass has a coordinate $(x_i, y_i)$ and a mass $m_i$.\n",
    "\n",
    "To find the shape of the chain, we minimize the sum of the potential energy in all springs and the gravitational potential energy of all masses. This results in the cost function\n",
    "\n",
    "$J = \\frac{1}{2}\\sum_{i=1}^{N-1}{D_i \\left(\\sqrt{(x_i - x_{i+1})^2 + (y_i - y_{i+1})^2} -\\frac{L}{N}\\right)^2} + g\\sum_{i=1}^{N}{m_i y_i}$\n",
    "\n",
    "where $D_i = 70N [N/m]$ is a spring constant, $L = 2.0m$ is the length of the chain at rest (if all springs are at their rest length), $g = 9.81 [m/s^2]$ is the gravitational constant. You can use $m_i = 0.1 [kg]$, but feel free to play around with this value (or use different masses for different parts of the chain).\n",
    "\n",
    "One side of the chain is attached to the point $(-1, 1)$ and the other side is attached to the point $(1, 1)$.\n",
    "\n",
    "There are also some obstacles present through which the chain cannot go\n",
    "\n",
    "a) Solve the optimization problem to find the shape of the chain\n",
    "\n",
    "b) Can you make the chain rest on top of the highest obstacle?"
   ]
  },
  {
   "cell_type": "code",
   "execution_count": null,
   "id": "44f90c36-dbb7-4935-8535-3ace7295aba7",
   "metadata": {},
   "outputs": [],
   "source": [
    "class obstacle:\n",
    "    def __init__(self, center_x, center_y, radius):\n",
    "        self.center_x = center_x\n",
    "        self.center_y = center_y\n",
    "        self.radius = radius\n",
    "\n",
    "obstacles = [obstacle(-0.7, 0.7, 0.1), \n",
    "             obstacle(0.1, 0.8, 0.1), \n",
    "             obstacle(0.8, 0.8, 0.1),\n",
    "             obstacle(-0.5, 1.2, 0.1),\n",
    "             obstacle(0.0, 1.5, 0.1)]\n",
    "\n",
    "\n",
    "# Write your optimization code here\n",
    "#\n",
    "# The plotting code below expects an opti_function object called 'opti_chain' \n",
    "# that takes two arguments:\n",
    "#      - L: the length of the chain\n",
    "#      - y: an initial guess for the height of the chain\n",
    "#\n",
    "# The function outputs the x- and y-coordinates of the chain masses\n",
    "#\n",
    "#\n",
    "\n",
    "plt.figure()\n",
    "x_chain, y_chain = opti_chain(2.0, 1.0)\n",
    "for obs in obstacles:\n",
    "    plt.gca().add_patch(Circle((obs.center_x, obs.center_y), obs.radius, color='r', alpha=0.5))\n",
    "plt.plot(x_chain, y_chain, 'b-o')\n",
    "plt.plot(p_left[0], p_left[1], 'ko')\n",
    "plt.plot(p_right[0], p_right[1], 'ko')\n",
    "plt.axis('equal')\n",
    "plt.show()"
   ]
  }
 ],
 "metadata": {
  "kernelspec": {
   "display_name": "Python 3 (ipykernel)",
   "language": "python",
   "name": "python3"
  },
  "language_info": {
   "codemirror_mode": {
    "name": "ipython",
    "version": 3
   },
   "file_extension": ".py",
   "mimetype": "text/x-python",
   "name": "python",
   "nbconvert_exporter": "python",
   "pygments_lexer": "ipython3",
   "version": "3.10.0"
  }
 },
 "nbformat": 4,
 "nbformat_minor": 5
}
