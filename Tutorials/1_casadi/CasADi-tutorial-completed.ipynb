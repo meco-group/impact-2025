{
 "cells": [
  {
   "cell_type": "markdown",
   "id": "b2302af4-1c93-4231-ba1a-1059e01c440b",
   "metadata": {},
   "source": [
    "# Tutorial on CasADi and Opti\n",
    "For more information on CasADi, check out https://web.casadi.org/docs/\n",
    "\n",
    "For IPOPT options, check out https://coin-or.github.io/Ipopt/OPTIONS.html"
   ]
  },
  {
   "cell_type": "code",
   "execution_count": 2,
   "id": "ce96ca05-91ab-4d4c-9fb5-f9ffe05c582b",
   "metadata": {},
   "outputs": [],
   "source": [
    "from casadi import *\n",
    "import matplotlib.pyplot as plt\n",
    "from matplotlib.animation import *\n",
    "from matplotlib.patches import Circle\n",
    "from IPython.display import HTML"
   ]
  },
  {
   "cell_type": "code",
   "execution_count": 3,
   "id": "61c9c5af-1d52-4a77-a8d1-d54e527bc7b9",
   "metadata": {},
   "outputs": [],
   "source": [
    "def plotObjective():\n",
    "    plt.figure()\n",
    "\n",
    "    delta = 0.025\n",
    "    xx = np.arange(-1.7, 1.7, delta)\n",
    "    yy = np.arange(-1.6, 1.6, delta)\n",
    "    X, Y = np.meshgrid(xx, yy)\n",
    "    Z = (1-X)**2 + (Y-X**2)**2\n",
    "    plt.contour(X, Y, Z, levels=100)\n",
    "\n",
    "    plt.gca().set_xlim([-1.7, 1.7])\n",
    "    plt.gca().set_ylim([-1.5, 1.5])\n",
    "    plt.gca().set_aspect('equal')\n",
    "\n",
    "def createAnimation(opti_f):\n",
    "    xx_sol = []\n",
    "    yy_sol = []\n",
    "    slopes = np.linspace(-2.0, 2.0, 30)\n",
    "    for slope in slopes:\n",
    "        x, y = opti_f(slope)\n",
    "        xx_sol.append(x)\n",
    "        yy_sol.append(y)\n",
    "    \n",
    "    plotObjective()\n",
    "    plt.plot(np.cos(np.linspace(0, 2*np.pi, 100)), \n",
    "             np.sin(np.linspace(0, 2*np.pi, 100)), 'r', linewidth=4)\n",
    "    constraint, = plt.plot(np.linspace(-2.0, 2.0, 2), slopes[0]*np.linspace(-2.0, 2.0, 2), \"r\", linewidth=4)\n",
    "    solution, = plt.plot(xx_sol[0], yy_sol[0], marker='o', color='k', markersize=10)\n",
    "    \n",
    "    def update_frame(i):\n",
    "        constraint.set_data(np.linspace(-2.0, 2.0, 2), slopes[i]*np.linspace(-2.0, 2.0, 2))\n",
    "        solution.set_data([float(xx_sol[i])], [float(yy_sol[i])])\n",
    "        return constraint, solution,\n",
    "    \n",
    "    animation1 = FuncAnimation(plt.gcf(), update_frame, frames=range(len(slopes)))\n",
    "    \n",
    "    HTML(animation1.to_jshtml())\n",
    "    return animation1"
   ]
  },
  {
   "cell_type": "markdown",
   "id": "ea7bce29-573f-4831-a620-81323a41537f",
   "metadata": {},
   "source": [
    "## Basic CasADi introduction: variables and functions\n",
    "\n",
    "Lets define our first CasADi function:\n",
    "\n",
    "$f\\left( \\begin{bmatrix} x_1 & x_2 & x_3 & x_4 & x_5 \\end{bmatrix}^\\top \\right) = \\begin{bmatrix} x_1 + x_2 + x_3\\\\ x_3^2 + x_4^2 + x_5^2\\end{bmatrix}$"
   ]
  },
  {
   "cell_type": "code",
   "execution_count": 4,
   "id": "7f40a686-4961-4b18-8709-bdf1da74887f",
   "metadata": {},
   "outputs": [
    {
     "ename": "RuntimeError",
     "evalue": "Error in Function::Function for 'f' [MXFunction] at .../casadi/core/function.cpp:280:\n.../casadi/core/function_internal.cpp:146: Error calling MXFunction::init for 'f':\n.../casadi/core/mx_function.cpp:406: f::init: Initialization failed since variables [y] are free. These symbols occur in the output expressions but you forgot to declare these as inputs. Set option 'allow_free' to allow free variables.",
     "output_type": "error",
     "traceback": [
      "\u001b[0;31m---------------------------------------------------------------------------\u001b[0m",
      "\u001b[0;31mRuntimeError\u001b[0m                              Traceback (most recent call last)",
      "\u001b[0;32m/tmp/ipykernel_14156/1064191758.py\u001b[0m in \u001b[0;36m?\u001b[0;34m()\u001b[0m\n\u001b[1;32m      6\u001b[0m \u001b[0my\u001b[0m\u001b[0;34m[\u001b[0m\u001b[0;36m0\u001b[0m\u001b[0;34m]\u001b[0m \u001b[0;34m=\u001b[0m \u001b[0mx\u001b[0m\u001b[0;34m[\u001b[0m\u001b[0;36m0\u001b[0m\u001b[0;34m]\u001b[0m \u001b[0;34m+\u001b[0m \u001b[0mx\u001b[0m\u001b[0;34m[\u001b[0m\u001b[0;36m1\u001b[0m\u001b[0;34m]\u001b[0m \u001b[0;34m+\u001b[0m \u001b[0mx\u001b[0m\u001b[0;34m[\u001b[0m\u001b[0;36m2\u001b[0m\u001b[0;34m]\u001b[0m\u001b[0;34m\u001b[0m\u001b[0;34m\u001b[0m\u001b[0m\n\u001b[1;32m      7\u001b[0m \u001b[0my\u001b[0m\u001b[0;34m[\u001b[0m\u001b[0;36m1\u001b[0m\u001b[0;34m]\u001b[0m \u001b[0;34m=\u001b[0m \u001b[0msumsqr\u001b[0m\u001b[0;34m(\u001b[0m\u001b[0mx\u001b[0m\u001b[0;34m[\u001b[0m\u001b[0;36m2\u001b[0m\u001b[0;34m:\u001b[0m\u001b[0;34m]\u001b[0m\u001b[0;34m)\u001b[0m\u001b[0;34m\u001b[0m\u001b[0;34m\u001b[0m\u001b[0m\n\u001b[1;32m      8\u001b[0m \u001b[0;34m\u001b[0m\u001b[0m\n\u001b[1;32m      9\u001b[0m \u001b[0;31m# Define a function and evaluate it\u001b[0m\u001b[0;34m\u001b[0m\u001b[0;34m\u001b[0m\u001b[0m\n\u001b[0;32m---> 10\u001b[0;31m \u001b[0mf\u001b[0m \u001b[0;34m=\u001b[0m \u001b[0mFunction\u001b[0m\u001b[0;34m(\u001b[0m\u001b[0;34m\"f\"\u001b[0m\u001b[0;34m,\u001b[0m \u001b[0;34m[\u001b[0m\u001b[0mx\u001b[0m\u001b[0;34m]\u001b[0m\u001b[0;34m,\u001b[0m \u001b[0;34m[\u001b[0m\u001b[0my\u001b[0m\u001b[0;34m]\u001b[0m\u001b[0;34m)\u001b[0m\u001b[0;34m\u001b[0m\u001b[0;34m\u001b[0m\u001b[0m\n\u001b[0m\u001b[1;32m     11\u001b[0m \u001b[0mf\u001b[0m\u001b[0;34m(\u001b[0m\u001b[0;34m[\u001b[0m\u001b[0;36m1\u001b[0m\u001b[0;34m,\u001b[0m \u001b[0;36m2\u001b[0m\u001b[0;34m,\u001b[0m \u001b[0;36m3\u001b[0m\u001b[0;34m,\u001b[0m \u001b[0;36m4\u001b[0m\u001b[0;34m,\u001b[0m \u001b[0;36m5\u001b[0m\u001b[0;34m]\u001b[0m\u001b[0;34m)\u001b[0m\u001b[0;34m\u001b[0m\u001b[0;34m\u001b[0m\u001b[0m\n",
      "\u001b[0;32m~/.local/lib/python3.10/site-packages/casadi/casadi.py\u001b[0m in \u001b[0;36m?\u001b[0;34m(self, *args)\u001b[0m\n\u001b[1;32m  23613\u001b[0m \u001b[0;34m\u001b[0m\u001b[0m\n\u001b[1;32m  23614\u001b[0m \u001b[0;34m\u001b[0m\u001b[0m\n\u001b[1;32m  23615\u001b[0m \u001b[0;34m\u001b[0m\u001b[0m\n\u001b[1;32m  23616\u001b[0m         \"\"\"\n\u001b[0;32m> 23617\u001b[0;31m         \u001b[0mthis\u001b[0m \u001b[0;34m=\u001b[0m \u001b[0m_casadi\u001b[0m\u001b[0;34m.\u001b[0m\u001b[0mnew_Function\u001b[0m\u001b[0;34m(\u001b[0m\u001b[0;34m*\u001b[0m\u001b[0margs\u001b[0m\u001b[0;34m)\u001b[0m\u001b[0;34m\u001b[0m\u001b[0;34m\u001b[0m\u001b[0m\n\u001b[0m\u001b[1;32m  23618\u001b[0m         \u001b[0;32mtry\u001b[0m\u001b[0;34m:\u001b[0m\u001b[0;34m\u001b[0m\u001b[0;34m\u001b[0m\u001b[0m\n\u001b[1;32m  23619\u001b[0m             \u001b[0mself\u001b[0m\u001b[0;34m.\u001b[0m\u001b[0mthis\u001b[0m\u001b[0;34m.\u001b[0m\u001b[0mappend\u001b[0m\u001b[0;34m(\u001b[0m\u001b[0mthis\u001b[0m\u001b[0;34m)\u001b[0m\u001b[0;34m\u001b[0m\u001b[0;34m\u001b[0m\u001b[0m\n\u001b[1;32m  23620\u001b[0m         \u001b[0;32mexcept\u001b[0m \u001b[0m__builtin__\u001b[0m\u001b[0;34m.\u001b[0m\u001b[0mException\u001b[0m\u001b[0;34m:\u001b[0m\u001b[0;34m\u001b[0m\u001b[0;34m\u001b[0m\u001b[0m\n",
      "\u001b[0;31mRuntimeError\u001b[0m: Error in Function::Function for 'f' [MXFunction] at .../casadi/core/function.cpp:280:\n.../casadi/core/function_internal.cpp:146: Error calling MXFunction::init for 'f':\n.../casadi/core/mx_function.cpp:406: f::init: Initialization failed since variables [y] are free. These symbols occur in the output expressions but you forgot to declare these as inputs. Set option 'allow_free' to allow free variables."
     ]
    }
   ],
   "source": [
    "# Define x and y\n",
    "x = MX.sym(\"x\", 5, 1)\n",
    "y = MX.sym(\"y\", 2, 1)\n",
    "\n",
    "# Assign the values\n",
    "y[0] = x[0] + x[1] + x[2]\n",
    "y[1] = sumsqr(x[2:])\n",
    "\n",
    "# Define a function and evaluate it\n",
    "f = Function(\"f\", [x], [y])\n",
    "f([1, 2, 3, 4, 5])"
   ]
  },
  {
   "cell_type": "markdown",
   "id": "f4a0c2d8-4267-4552-8707-45376ff25e07",
   "metadata": {},
   "source": [
    "Lets introduce a paremeter in our CasADi function:\n",
    "\n",
    "$f\\left( \\begin{bmatrix} x_1 & x_2 & x_3 & x_4 & x_5 \\end{bmatrix}^\\top, \\textcolor{blue}{p} \\right) = \\begin{bmatrix} x_1 + x_2 + x_3\\\\ x_3^2 + x_4^2 + x_5^2 + \\textcolor{blue}{p}\\end{bmatrix}$"
   ]
  },
  {
   "cell_type": "code",
   "execution_count": 5,
   "id": "0f7c9dd1-3c59-487d-9a8a-46fbf05005aa",
   "metadata": {},
   "outputs": [
    {
     "name": "stdout",
     "output_type": "stream",
     "text": [
      "[6, 52]\n",
      "[6, 52]\n"
     ]
    }
   ],
   "source": [
    "# Define x and y\n",
    "x = MX.sym(\"x\", 5, 1)\n",
    "y = MX(2, 1)\n",
    "\n",
    "# Define p\n",
    "p = 2\n",
    "\n",
    "# Assign values\n",
    "y[0] = x[0] + x[1] + x[2]\n",
    "y[1] = sumsqr(x[2:]) + p\n",
    "\n",
    "# Define the function and print it\n",
    "f = Function(\"f\", [x], [y])\n",
    "print(f([1, 2, 3, 4, 5]))\n",
    "\n",
    "# Repeat with a different value of p\n",
    "p = 20\n",
    "f = Function(\"f\", [x], [y])\n",
    "print(f([1, 2, 3, 4, 5]))"
   ]
  },
  {
   "cell_type": "markdown",
   "id": "b71b713d-8fd8-44a7-97ab-fbf5de22a014",
   "metadata": {},
   "source": [
    "## Using CasADi's Algorithmic differentation\n",
    "\n",
    "Computing a derivative using jacobian:"
   ]
  },
  {
   "cell_type": "code",
   "execution_count": 6,
   "id": "be45d58b-513f-452f-887d-c6db3a0ec53f",
   "metadata": {},
   "outputs": [
    {
     "name": "stdout",
     "output_type": "stream",
     "text": [
      "J:(i0[5])->(o0[2x5,6nz]) MXFunction\n",
      "\n",
      "[[1, 1, 1, 00, 00], \n",
      " [00, 00, 6, 8, 10]]\n"
     ]
    }
   ],
   "source": [
    "J = Function(\"J\", [x], [jacobian(y, x)])\n",
    "print(J)\n",
    "print(J([1,2,3,4,5]))"
   ]
  },
  {
   "cell_type": "markdown",
   "id": "358a8f9f-0272-4866-a183-b09655e50082",
   "metadata": {},
   "source": [
    "Computing a second order derivative using hessian:"
   ]
  },
  {
   "cell_type": "code",
   "execution_count": 7,
   "id": "edb79c08-2260-429e-9092-516b64425faf",
   "metadata": {},
   "outputs": [
    {
     "name": "stdout",
     "output_type": "stream",
     "text": [
      "H:(i0[5])->(o0[5x5,17nz]) MXFunction\n",
      "\n",
      "[[2, 2, 2, 00, 00], \n",
      " [2, 2, 2, 00, 00], \n",
      " [2, 2, 282, 96, 120], \n",
      " [00, 00, 96, 336, 160], \n",
      " [00, 00, 120, 160, 408]]\n"
     ]
    }
   ],
   "source": [
    "H = Function(\"H\", [x], [hessian(transpose(y) @ y, x)[0]])\n",
    "print(H)\n",
    "print(H([1,2,3,4,5]))"
   ]
  },
  {
   "cell_type": "markdown",
   "id": "e8b12c63-5078-40c1-bad0-451fa2d7c0a5",
   "metadata": {},
   "source": [
    "## Storing, loading and code generating casadi functions"
   ]
  },
  {
   "cell_type": "code",
   "execution_count": 9,
   "id": "269d98f8-f33b-440d-9b35-80cd972ee456",
   "metadata": {},
   "outputs": [
    {
     "name": "stdout",
     "output_type": "stream",
     "text": [
      "quadcopter_dynamics:(x[9],u[4])->(xdot[9]) MXFunction\n"
     ]
    },
    {
     "data": {
      "text/plain": [
       "'quadcopter_dynamics.c'"
      ]
     },
     "execution_count": 9,
     "metadata": {},
     "output_type": "execute_result"
    }
   ],
   "source": [
    "# loading a casadi function (you will create this one later)\n",
    "quadcopter_dynamics = Function.load(\"quadcopter_dynamics.casadi\")\n",
    "print(quadcopter_dynamics)\n",
    "\n",
    "# saving a casadi function\n",
    "quadcopter_dynamics.save(\"quadcopter_dynamics.casadi\")\n",
    "\n",
    "# code generation\n",
    "quadcopter_dynamics.generate(\"quadcopter_dynamics.c\", {\"with_header\": True})\n",
    "\n",
    "# compiling code-generated casadi functions\n",
    "# gcc -fPIC -shared myFunction.c -o myFunction.so"
   ]
  },
  {
   "cell_type": "markdown",
   "id": "ae41b1fd-010b-41c3-a2a0-fc24d31bc715",
   "metadata": {},
   "source": [
    "## Opti example\n",
    "(see https://web.casadi.org/blog/opti/)\n",
    "Let's now define an optimization problem and solve it using CasADi Opti.\n",
    "\n",
    "### Basic Rosenbrock example\n",
    "\\begin{align}\n",
    "\\min_{x,u} \\quad (1-x)^2 + (y-x^2)^2\n",
    "\\end{align}"
   ]
  },
  {
   "cell_type": "code",
   "execution_count": null,
   "id": "783988b0-4ed7-4ee9-8d9a-15893763cb97",
   "metadata": {},
   "outputs": [],
   "source": [
    "# create an opti instance\n",
    "opti = Opti()\n",
    "\n",
    "# define optimization variables\n",
    "x = opti.variable(1, 1)\n",
    "y = opti.variable(1, 1)\n",
    "\n",
    "# define the objective function\n",
    "opti.minimize((1-x)**2 + (y-x**2)**2)\n",
    "\n",
    "# set the solver\n",
    "opti.solver(\"ipopt\")\n",
    "sol = opti.solve()\n",
    "\n",
    "# show the output\n",
    "print(f\"Optimal solution: ({sol.value(x)}, {sol.value(y)})\")\n",
    "\n",
    "plotObjective()\n",
    "plt.plot(sol.value(x), sol.value(y), 'k', marker='o', markersize=10)"
   ]
  },
  {
   "cell_type": "markdown",
   "id": "e3cdc453-2819-4f09-89b3-c40e81856a7b",
   "metadata": {},
   "source": [
    "### Let's add a simple constraint\n",
    "\\begin{align}\n",
    "\\min_{x,u} (1-x)^2 + (y-x^2)^2\\\\\n",
    "\\text{s.t.} \\quad x^2 + y^2 = 1\\quad \n",
    "\\end{align}"
   ]
  },
  {
   "cell_type": "code",
   "execution_count": null,
   "id": "7a1a622e-a82d-41c5-a1b9-9ba11248d116",
   "metadata": {},
   "outputs": [],
   "source": [
    "# create an opti instance\n",
    "opti = Opti()\n",
    "\n",
    "# define optimization variables\n",
    "x = opti.variable(1, 1)\n",
    "y = opti.variable(1, 1)\n",
    "\n",
    "# define the objective function\n",
    "opti.minimize((1-x)**2 + (y-x**2)**2)\n",
    "\n",
    "# define the constraint\n",
    "opti.subject_to(x**2 + y**2 == 1)\n",
    "\n",
    "# set the solver\n",
    "opti.solver(\"ipopt\", {\"print_time\":False}, {\"print_level\":0})\n",
    "sol = opti.solve()\n",
    "\n",
    "# show the solution\n",
    "print(f\"Optimal solution: ({sol.value(x)}, {sol.value(y)})\")\n",
    "print(f\"Lagrange multiplier value: {sol.value(opti.debug.lam_g)}\")\n",
    "\n",
    "plotObjective()\n",
    "plt.plot(np.cos(np.linspace(0, 2*np.pi, 100)), \n",
    "         np.sin(np.linspace(0, 2*np.pi, 100)), 'r', linewidth=4.0)\n",
    "plt.plot(sol.value(x), sol.value(y), 'k', marker='o', markersize=10)"
   ]
  },
  {
   "cell_type": "markdown",
   "id": "6d47109a-1170-4e70-97b3-5baae2a008d2",
   "metadata": {},
   "source": [
    "### Let's add an inequality constraint also\n",
    "\\begin{align}\n",
    "\\min_{x,u} (1-x)^2 + (y-x^2)^2\\\\\n",
    "\\text{s.t.} \\quad x^2 + y^2 = 1\\\\\n",
    "y >= px\n",
    "\\end{align}"
   ]
  },
  {
   "cell_type": "code",
   "execution_count": null,
   "id": "93d32bb8-1d1d-4569-8abc-7c400db2e0a4",
   "metadata": {},
   "outputs": [],
   "source": [
    "# create an opti instance\n",
    "opti = Opti()\n",
    "\n",
    "# define optimization variables\n",
    "x = opti.variable(1, 1)\n",
    "y = opti.variable(1, 1)\n",
    "\n",
    "# define a parameter\n",
    "p = opti.parameter(1, 1)\n",
    "\n",
    "# define the objective function\n",
    "opti.minimize((1-x)**2 + (y-x**2)**2)\n",
    "\n",
    "# define the constraints\n",
    "opti.subject_to(x**2 + y**2 == 1)\n",
    "opti.subject_to(y >= p*x)\n",
    "\n",
    "# set the solver\n",
    "opti.solver(\"ipopt\", {\"print_time\":False}, {\"print_level\":0, \"max_iter\":3000})\n",
    "\n",
    "# set the parameter value\n",
    "opti.set_value(p, 2)\n",
    "\n",
    "# solve the problem\n",
    "sol = opti.solve()\n",
    "\n",
    "# show the solution\n",
    "print(f\"Optimal solution: ({sol.value(x)}, {sol.value(y)})\")\n",
    "\n",
    "plotObjective()\n",
    "plt.plot(np.cos(np.linspace(0, 2*np.pi, 100)), \n",
    "         np.sin(np.linspace(0, 2*np.pi, 100)), 'r', linewidth=4.0)\n",
    "plt.plot(np.linspace(-2.0, 2.0, 2), 2.0*np.linspace(-2.0, 2.0, 2), \"r\", linewidth=4)\n",
    "plt.plot(sol.value(x), sol.value(y), 'k', marker='o', markersize=10)"
   ]
  },
  {
   "cell_type": "markdown",
   "id": "eaba4e8f-0828-43b7-80c0-667a85ea7ca5",
   "metadata": {},
   "source": [
    "### More advanced options in Opti\n",
    "Callbacks"
   ]
  },
  {
   "cell_type": "code",
   "execution_count": null,
   "id": "2f8eacce-4d6a-4001-856e-cf59caf7a70e",
   "metadata": {},
   "outputs": [],
   "source": [
    "# create an opti instance\n",
    "opti = Opti()\n",
    "\n",
    "# define optimization variables\n",
    "x = opti.variable(1, 1)\n",
    "y = opti.variable(1, 1)\n",
    "\n",
    "# define a parameter\n",
    "p = opti.parameter(1, 1)\n",
    "\n",
    "# define the objective function\n",
    "opti.minimize((1-x)**2 + (y-x**2)**2)\n",
    "\n",
    "# define the constraints\n",
    "opti.subject_to(x**2 + y**2 == 1)\n",
    "opti.subject_to(y >= p*x)\n",
    "\n",
    "# set the solver\n",
    "opti.solver(\"ipopt\", {\"print_time\":False}, {\"print_level\":0, \"max_iter\":3000})\n",
    "\n",
    "# define a callback\n",
    "# opti.callback(lambda i : print(opti.debug.value(x), opti.debug.value(y)))\n",
    "\n",
    "# def plotAll():\n",
    "#     plotObjective()\n",
    "#     plt.plot(np.cos(np.linspace(0, 2*np.pi, 100)), np.sin(np.linspace(0, 2*np.pi, 100)), 'r', linewidth=4.0)\n",
    "#     plt.plot(np.linspace(-2.0, 2.0, 2), 2.0*np.linspace(-2.0, 2.0, 2), \"r\", linewidth=4)\n",
    "#     plt.plot(opti.debug.value(x), opti.debug.value(y), 'k', marker='o', markersize=10)\n",
    "# opti.callback(lambda i : plotAll())\n",
    "\n",
    "# set the parameter value\n",
    "opti.set_value(p, 2)\n",
    "\n",
    "# solve the problem\n",
    "opti.solve()"
   ]
  },
  {
   "cell_type": "markdown",
   "id": "52ea4bd7-c153-4ebd-bc89-44c50f7e1ea7",
   "metadata": {},
   "source": [
    "### More advanced options in Opti\n",
    "Create an opti.to_function object to play around with the parameter p."
   ]
  },
  {
   "cell_type": "code",
   "execution_count": null,
   "id": "db55883b-de2b-47c3-b9ea-9e3b127b24f5",
   "metadata": {},
   "outputs": [],
   "source": [
    "# create an opti instance\n",
    "opti = Opti()\n",
    "\n",
    "# define optimization variables\n",
    "x = opti.variable(1, 1)\n",
    "y = opti.variable(1, 1)\n",
    "\n",
    "# define a parameter\n",
    "p = opti.parameter(1, 1)\n",
    "\n",
    "# define the objective function\n",
    "opti.minimize((1-x)**2 + (y-x**2)**2)\n",
    "\n",
    "# define the constraints\n",
    "opti.subject_to(x**2 + y**2 == 1)\n",
    "opti.subject_to(y >= p*x)\n",
    "\n",
    "# set the solver\n",
    "opti.solver(\"ipopt\", {\"print_time\":False}, {\"print_level\":0, \"max_iter\":3000})\n",
    "\n",
    "# create function object\n",
    "opti_f = opti.to_function(\"opti_f\", [p], [x, y])\n",
    "\n",
    "# solve the problem\n",
    "sol_x, sol_y = opti_f(2.0)\n",
    "\n",
    "# show the solution\n",
    "print(f\"Optimal solution: ({sol_x}, {sol_y})\")\n",
    "\n",
    "plotObjective()\n",
    "plt.plot(np.cos(np.linspace(0, 2*np.pi, 100)), \n",
    "         np.sin(np.linspace(0, 2*np.pi, 100)), 'r', linewidth=4.0)\n",
    "plt.plot(np.linspace(-2.0, 2.0, 2), 2.0*np.linspace(-2.0, 2.0, 2), \"r\", linewidth=4)\n",
    "plt.plot(sol_x, sol_y, 'k', marker='o', markersize=10)"
   ]
  },
  {
   "cell_type": "code",
   "execution_count": null,
   "id": "9e8714f4-9b1a-45b2-bea9-154f0065684c",
   "metadata": {},
   "outputs": [],
   "source": [
    "animation1 = createAnimation(opti_f)\n",
    "HTML(animation1.to_jshtml())"
   ]
  },
  {
   "cell_type": "markdown",
   "id": "231e46a7-34d6-4d6d-9651-6097f66ce6b1",
   "metadata": {},
   "source": [
    "Provide initial guess to prevent convergence to local minimum."
   ]
  },
  {
   "cell_type": "code",
   "execution_count": null,
   "id": "51cd66ec-2750-4815-8945-e1da313b75f5",
   "metadata": {},
   "outputs": [],
   "source": [
    "# create an opti instance\n",
    "opti = Opti()\n",
    "\n",
    "# define optimization variables\n",
    "x = opti.variable(1, 1)\n",
    "y = opti.variable(1, 1)\n",
    "\n",
    "# define a parameter\n",
    "p = opti.parameter(1, 1)\n",
    "\n",
    "# define the objective function\n",
    "opti.minimize((1-x)**2 + (y-x**2)**2)\n",
    "\n",
    "# define the constraints\n",
    "opti.subject_to(x**2 + y**2 == 1)\n",
    "opti.subject_to(y >= p*x)\n",
    "\n",
    "# set an initial guess\n",
    "opti.set_initial(x, 0.5)\n",
    "opti.set_initial(y, 2.0)\n",
    "\n",
    "# set the solver\n",
    "opti.solver(\"ipopt\", {\"print_time\":False}, {\"print_level\":0, \"max_iter\":3000})\n",
    "\n",
    "# create function object\n",
    "opti_f = opti.to_function(\"opti_f\", [p], [x, y])\n",
    "\n",
    "animation2 = createAnimation(opti_f)\n",
    "HTML(animation2.to_jshtml())"
   ]
  },
  {
   "cell_type": "markdown",
   "id": "dbe0a10a-d742-49c6-9e3c-414fe95e61d2",
   "metadata": {},
   "source": [
    "# Example problem: hanging chain\n",
    "\n",
    "Now, lets consider a more elaborate example optimization problem. We want to find the shape of a chain, fixed on both ends. This can be achieved by representing the chain by masses attached to each other with simple springs. Every mass has a coordinate $(x_i, y_i)$ and a mass $m_i$.\n",
    "\n",
    "To find the shape of the chain, we minimize the sum of the potential energy in all springs and the gravitational potential energy of all masses. This results in the cost function\n",
    "\n",
    "$J = \\frac{1}{2}\\sum_{i=1}^{N-1}{D_i \\left(\\sqrt{(x_i - x_{i+1})^2 + (y_i - y_{i+1})^2} -\\frac{L}{N}\\right)^2} + g\\sum_{i=1}^{N}{m_i y_i}$\n",
    "\n",
    "where $D_i = 70N [N/m]$ is a spring constant, $L = 2.0m$ is the length of the chain at rest (if all springs are at their rest length), $g = 9.81 [m/s^2]$ is the gravitational constant. You can use $m_i = 0.1 [kg]$, but feel free to play around with this value (or use different masses for different parts of the chain).\n",
    "\n",
    "One side of the chain is attached to the point $(-1, 1)$ and the other side is attached to the point $(1, 1)$.\n",
    "\n",
    "There are also some obstacles present through which the chain cannot go\n",
    "\n",
    "a) Solve the optimization problem to find the shape of the chain\n",
    "\n",
    "b) Can you make the chain rest on top of the highest obstacle?"
   ]
  },
  {
   "cell_type": "code",
   "execution_count": null,
   "id": "565f052d-f142-40de-bf9a-6bdc0eb8bae5",
   "metadata": {},
   "outputs": [],
   "source": [
    "class obstacle:\n",
    "    def __init__(self, center_x, center_y, radius):\n",
    "        self.center_x = center_x\n",
    "        self.center_y = center_y\n",
    "        self.radius = radius\n",
    "\n",
    "obstacles = [obstacle(-0.7, 0.7, 0.1), \n",
    "             obstacle(0.1, 0.8, 0.1), \n",
    "             obstacle(0.8, 0.8, 0.1),\n",
    "             obstacle(-0.5, 1.2, 0.1),\n",
    "             obstacle(0.0, 1.5, 0.1)]\n",
    "\n",
    "# Define problem parameters\n",
    "N = 60\n",
    "L = 2.0\n",
    "p_left = [-1, 1]\n",
    "p_right = [1, 1]\n",
    "D = 70*N\n",
    "m = 0.1\n",
    "\n",
    "# Create opti instance\n",
    "opti = Opti()\n",
    "\n",
    "x = opti.variable(N, 1)\n",
    "y = opti.variable(N, 1)\n",
    "L = opti.parameter()\n",
    "opti.set_value(L, 2)\n",
    "\n",
    "obj = 0.0\n",
    "for i in range(N):\n",
    "    # gravitational potential energy\n",
    "    obj += m*9.81*y[i]\n",
    "\n",
    "    # potential energy in the springs\n",
    "    if i < N-1:\n",
    "        obj += 0.5*D*(sqrt((x[i]-x[i+1])**2 + (y[i]-y[i+1])**2) - L/N)**2\n",
    "\n",
    "    # obstacle avoidance constraints\n",
    "    for obs in obstacles:\n",
    "        opti.subject_to((x[i] - obs.center_x)**2 + (y[i] - obs.center_y)**2 >= (obs.radius)**2)\n",
    "    \n",
    "opti.minimize(obj)\n",
    "\n",
    "# end-point constraints\n",
    "opti.subject_to(x[0] == p_left[0])\n",
    "opti.subject_to(y[0] == p_left[1])\n",
    "opti.subject_to(x[-1] == p_right[0])\n",
    "opti.subject_to(y[-1] == p_right[1])\n",
    "\n",
    "# initial guess\n",
    "opti.set_initial(x, linspace(p_left[0], p_right[0], N))\n",
    "opti.set_initial(y, 3)\n",
    "\n",
    "opti.solver('ipopt')\n",
    "sol = opti.solve()\n",
    "opti_chain = opti.to_function(\"opti_chain\", [L, y], [x, y])\n",
    "\n",
    "plt.figure()\n",
    "x_chain, y_chain = opti_chain(2.0, 1.0)\n",
    "for obs in obstacles:\n",
    "    plt.gca().add_patch(Circle((obs.center_x, obs.center_y), obs.radius, color='r', alpha=0.5))\n",
    "plt.plot(x_chain, y_chain, 'b-o')\n",
    "plt.plot(p_left[0], p_left[1], 'ko')\n",
    "plt.plot(p_right[0], p_right[1], 'ko')\n",
    "plt.axis('equal')\n",
    "plt.show()"
   ]
  },
  {
   "cell_type": "code",
   "execution_count": null,
   "id": "06d100d3-5efe-4411-bf42-480e5cd84060",
   "metadata": {},
   "outputs": [],
   "source": []
  },
  {
   "cell_type": "code",
   "execution_count": null,
   "id": "e5906211-7902-47c5-93b8-34eb067b1e34",
   "metadata": {},
   "outputs": [],
   "source": []
  }
 ],
 "metadata": {
  "kernelspec": {
   "display_name": "Python 3 (ipykernel)",
   "language": "python",
   "name": "python3"
  },
  "language_info": {
   "codemirror_mode": {
    "name": "ipython",
    "version": 3
   },
   "file_extension": ".py",
   "mimetype": "text/x-python",
   "name": "python",
   "nbconvert_exporter": "python",
   "pygments_lexer": "ipython3",
   "version": "3.10.0"
  }
 },
 "nbformat": 4,
 "nbformat_minor": 5
}
